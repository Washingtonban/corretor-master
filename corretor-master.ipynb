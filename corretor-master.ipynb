{
 "cells": [
  {
   "cell_type": "code",
   "execution_count": 1,
   "outputs": [],
   "source": [
    "import nltk"
   ],
   "metadata": {
    "collapsed": false,
    "pycharm": {
     "name": "#%%\n"
    }
   }
  },
  {
   "cell_type": "code",
   "execution_count": 2,
   "outputs": [
    {
     "name": "stdout",
     "output_type": "stream",
     "text": [
      "\n",
      "\n",
      "\n",
      "imagem \n",
      "\n",
      "Temos a seguinte classe que representa um usuário no nosso sistema:\n",
      "\n",
      "java\n",
      "\n",
      "Para salvar um novo usuário, várias validações são feitas, como por exemplo: Ver se o nome só contém letras, [**o CPF só números**] e ver se o usuário possui no mínimo 18 anos. Veja o método que faz essa validação:\n",
      "\n",
      "java \n",
      "\n",
      "Suponha agora que eu tenha outra classe, a classe `Produto`, que contém um atributo nome e eu quero fazer a mesma validação que fiz para o nome do usuário: Ver se só contém letras. E aí? Vou\n"
     ]
    }
   ],
   "source": [
    "with open(\"./data/artigos.txt\", \"r\") as f:\n",
    "    artigos = f.read()\n",
    "\n",
    "print(artigos[:500])"
   ],
   "metadata": {
    "collapsed": false,
    "pycharm": {
     "name": "#%%\n"
    }
   }
  },
  {
   "cell_type": "code",
   "execution_count": 3,
   "outputs": [],
   "source": [
    "texto_exemplo = \"Olá, tudo bem?\""
   ],
   "metadata": {
    "collapsed": false,
    "pycharm": {
     "name": "#%%\n"
    }
   }
  },
  {
   "cell_type": "code",
   "execution_count": 4,
   "outputs": [],
   "source": [
    "tokens = texto_exemplo.split()"
   ],
   "metadata": {
    "collapsed": false,
    "pycharm": {
     "name": "#%%\n"
    }
   }
  },
  {
   "cell_type": "code",
   "execution_count": 5,
   "outputs": [
    {
     "data": {
      "text/plain": "['Olá,', 'tudo', 'bem?']"
     },
     "execution_count": 5,
     "metadata": {},
     "output_type": "execute_result"
    }
   ],
   "source": [
    "tokens"
   ],
   "metadata": {
    "collapsed": false,
    "pycharm": {
     "name": "#%%\n"
    }
   }
  },
  {
   "cell_type": "code",
   "execution_count": 6,
   "outputs": [],
   "source": [
    "palavras_separadas = nltk.tokenize.word_tokenize(texto_exemplo)"
   ],
   "metadata": {
    "collapsed": false,
    "pycharm": {
     "name": "#%%\n"
    }
   }
  },
  {
   "cell_type": "code",
   "execution_count": 7,
   "outputs": [
    {
     "data": {
      "text/plain": "['Olá', ',', 'tudo', 'bem', '?']"
     },
     "execution_count": 7,
     "metadata": {},
     "output_type": "execute_result"
    }
   ],
   "source": [
    "palavras_separadas"
   ],
   "metadata": {
    "collapsed": false,
    "pycharm": {
     "name": "#%%\n"
    }
   }
  },
  {
   "cell_type": "code",
   "execution_count": 8,
   "outputs": [],
   "source": [
    "def separa_palavras(lista_tokens):\n",
    "    lista_palavras = []\n",
    "    for token in lista_tokens:\n",
    "        if token.isalpha():\n",
    "            lista_palavras.append(token)\n",
    "    return lista_palavras"
   ],
   "metadata": {
    "collapsed": false,
    "pycharm": {
     "name": "#%%\n"
    }
   }
  },
  {
   "cell_type": "code",
   "execution_count": 9,
   "outputs": [
    {
     "data": {
      "text/plain": "['Olá', 'tudo', 'bem']"
     },
     "execution_count": 9,
     "metadata": {},
     "output_type": "execute_result"
    }
   ],
   "source": [
    "separa_palavras(palavras_separadas)"
   ],
   "metadata": {
    "collapsed": false,
    "pycharm": {
     "name": "#%%\n"
    }
   }
  },
  {
   "cell_type": "code",
   "execution_count": 10,
   "outputs": [],
   "source": [
    "lista_token = nltk.tokenize.word_tokenize(artigos)"
   ],
   "metadata": {
    "collapsed": false,
    "pycharm": {
     "name": "#%%\n"
    }
   }
  },
  {
   "cell_type": "code",
   "execution_count": 11,
   "outputs": [],
   "source": [
    "lista_palavras = separa_palavras(lista_token)"
   ],
   "metadata": {
    "collapsed": false,
    "pycharm": {
     "name": "#%%\n"
    }
   }
  },
  {
   "cell_type": "code",
   "execution_count": 12,
   "outputs": [
    {
     "data": {
      "text/plain": "403106"
     },
     "execution_count": 12,
     "metadata": {},
     "output_type": "execute_result"
    }
   ],
   "source": [
    "len(lista_palavras)"
   ],
   "metadata": {
    "collapsed": false,
    "pycharm": {
     "name": "#%%\n"
    }
   }
  },
  {
   "cell_type": "code",
   "execution_count": 13,
   "outputs": [],
   "source": [
    "def normalizacao(lista_palavras):\n",
    "    lista_normalizada = []\n",
    "    for palavra in lista_palavras:\n",
    "        lista_normalizada.append(palavra.lower())\n",
    "    return lista_normalizada"
   ],
   "metadata": {
    "collapsed": false,
    "pycharm": {
     "name": "#%%\n"
    }
   }
  },
  {
   "cell_type": "code",
   "execution_count": 14,
   "outputs": [],
   "source": [
    "lista_normalizada = normalizacao(lista_palavras)"
   ],
   "metadata": {
    "collapsed": false,
    "pycharm": {
     "name": "#%%\n"
    }
   }
  },
  {
   "cell_type": "code",
   "execution_count": 15,
   "outputs": [
    {
     "data": {
      "text/plain": "18465"
     },
     "execution_count": 15,
     "metadata": {},
     "output_type": "execute_result"
    }
   ],
   "source": [
    "len(set(lista_normalizada))"
   ],
   "metadata": {
    "collapsed": false,
    "pycharm": {
     "name": "#%%\n"
    }
   }
  },
  {
   "cell_type": "code",
   "execution_count": 15,
   "outputs": [],
   "source": [],
   "metadata": {
    "collapsed": false,
    "pycharm": {
     "name": "#%%\n"
    }
   }
  },
  {
   "cell_type": "code",
   "execution_count": 16,
   "outputs": [],
   "source": [
    "def insert_letra(fatias):\n",
    "    novas_palavras = []\n",
    "    letras = 'abcdefghijklmnopqrstuvwxyzáâàãéêèẽíîìĩóôòõúûùũç'\n",
    "    for E, D in fatias:\n",
    "        for letra in letras:\n",
    "            novas_palavras.append((E + letra + D))\n",
    "    return novas_palavras"
   ],
   "metadata": {
    "collapsed": false,
    "pycharm": {
     "name": "#%%\n"
    }
   }
  },
  {
   "cell_type": "code",
   "execution_count": 32,
   "outputs": [],
   "source": [
    "palavra_exemplo = \"etudar\"\n",
    "def gerador_palavras(palavra):\n",
    "    fatias = []\n",
    "    for i in range(len(palavra)+1):\n",
    "        fatias.append((palavra[:i], palavra[i:]))\n",
    "    palavra_gerada = insert_letra(fatias)\n",
    "    return palavra_gerada"
   ],
   "metadata": {
    "collapsed": false,
    "pycharm": {
     "name": "#%%\n"
    }
   }
  },
  {
   "cell_type": "code",
   "execution_count": 33,
   "outputs": [],
   "source": [
    "frequencia = nltk.FreqDist(lista_normalizada)\n",
    "total_palavras = len(lista_normalizada)"
   ],
   "metadata": {
    "collapsed": false,
    "pycharm": {
     "name": "#%%\n"
    }
   }
  },
  {
   "cell_type": "code",
   "execution_count": 34,
   "outputs": [],
   "source": [
    "def probabilidade(palavra_gerada):\n",
    "    return frequencia[palavra_gerada]/total_palavras\n"
   ],
   "metadata": {
    "collapsed": false,
    "pycharm": {
     "name": "#%%\n"
    }
   }
  },
  {
   "cell_type": "code",
   "execution_count": 35,
   "outputs": [],
   "source": [
    "def corretor(palavra):\n",
    "    palavras_geradas = gerador_palavras(palavra)\n",
    "    palavra_correta = max(palavras_geradas, key=probabilidade)\n",
    "    return palavra_correta"
   ],
   "metadata": {
    "collapsed": false,
    "pycharm": {
     "name": "#%%\n"
    }
   }
  },
  {
   "cell_type": "code",
   "execution_count": 36,
   "outputs": [
    {
     "data": {
      "text/plain": "'estudar'"
     },
     "execution_count": 36,
     "metadata": {},
     "output_type": "execute_result"
    }
   ],
   "source": [
    "corretor(palavra_exemplo)"
   ],
   "metadata": {
    "collapsed": false,
    "pycharm": {
     "name": "#%%\n"
    }
   }
  },
  {
   "cell_type": "code",
   "execution_count": 37,
   "outputs": [],
   "source": [
    "def cria_dados_teste(nome_arquivo):\n",
    "    lista_palavras_teste = []\n",
    "    f = open(nome_arquivo, \"r\")\n",
    "    for linha in f:\n",
    "        correta, errada = linha.split()\n",
    "        lista_palavras_teste.append((correta, errada))\n",
    "    f.close()\n",
    "    return lista_palavras_teste"
   ],
   "metadata": {
    "collapsed": false,
    "pycharm": {
     "name": "#%%\n"
    }
   }
  },
  {
   "cell_type": "code",
   "execution_count": 39,
   "outputs": [
    {
     "data": {
      "text/plain": "[('podemos', 'pyodemos'),\n ('esse', 'esje'),\n ('já', 'jrá'),\n ('nosso', 'nossov'),\n ('são', 'sãêo'),\n ('dos', 'dosa'),\n ('muito', 'muifo'),\n ('imagem', 'iômagem'),\n ('sua', 'ósua'),\n ('também', 'tambéùm'),\n ('ele', 'eme'),\n ('fazer', 'èazer'),\n ('temos', 'temfs'),\n ('essa', 'eàssa'),\n ('quando', 'quaôdo'),\n ('vamos', 'vamvos'),\n ('sobre', 'hsobre'),\n ('java', 'sjava'),\n ('das', 'daõs'),\n ('agora', 'agorah'),\n ('está', 'eòtá'),\n ('cada', 'céda'),\n ('mesmo', 'zmesmo'),\n ('nos', 'noâ'),\n ('forma', 'fobma'),\n ('seja', 'sejéa'),\n ('então', 'enêão'),\n ('criar', 'èriar'),\n ('código', 'cóeigo'),\n ('caso', 'casío'),\n ('exemplo', 'áexemplo'),\n ('tem', 'tĩem'),\n ('usuário', 'usuárôio'),\n ('dados', 'dfados'),\n ('python', 'pgthon'),\n ('nossa', 'nossah'),\n ('além', 'alémè'),\n ('assim', 'asõim'),\n ('ter', 'teb'),\n ('até', 'atĩ'),\n ('bem', 'âem'),\n ('design', 'desigen'),\n ('trabalho', 'trabalàho'),\n ('foi', 'foo'),\n ('apenas', 'apenaũ'),\n ('empresa', 'empresà'),\n ('valor', 'valíor'),\n ('será', 'serr'),\n ('entre', 'entke'),\n ('método', 'méqodo'),\n ('precisamos', 'precisamops'),\n ('ainda', 'ainàa'),\n ('vai', 'van'),\n ('conteúdo', 'ûconteúdo'),\n ('seus', 'çeus'),\n ('eu', 'eû'),\n ('todos', 'todtos'),\n ('tempo', 'temeo'),\n ('sempre', 'semre'),\n ('qual', 'quakl'),\n ('ela', 'elaá'),\n ('só', 'síó'),\n ('utilizar', 'utiqizar'),\n ('projeto', 'prhojeto'),\n ('site', 'siàe'),\n ('sem', 'seém'),\n ('pelo', 'peln'),\n ('alura', 'aléra'),\n ('dia', 'tdia'),\n ('tudo', 'tuúo'),\n ('podemos', 'kpodemos'),\n ('esse', 'eẽsse'),\n ('já', 'jé'),\n ('nosso', 'nçosso'),\n ('são', 'sãô'),\n ('dos', 'odos'),\n ('muito', 'tuito'),\n ('imagem', 'imõgem'),\n ('sua', 'siua'),\n ('também', 'tamvbém'),\n ('ele', 'elpe'),\n ('fazer', 'façzer'),\n ('temos', 'teos'),\n ('essa', 'eũsa'),\n ('quando', 'quaìdo'),\n ('vamos', 'vjmos'),\n ('sobre', 'sxobre'),\n ('java', 'jkva'),\n ('das', 'dms'),\n ('agora', 'agtora'),\n ('está', 'esútá'),\n ('cada', 'cava'),\n ('mesmo', 'medmo'),\n ('nos', 'ános'),\n ('forma', 'forûa'),\n ('seja', 'smeja'),\n ('então', 'enjtão'),\n ('criar', 'criôar'),\n ('código', 'cóàigo'),\n ('caso', 'èaso'),\n ('exemplo', 'exbemplo'),\n ('tem', 'túem'),\n ('usuário', 'usuárin'),\n ('dados', 'daáos'),\n ('python', 'pythoçn'),\n ('nossa', 'nossk'),\n ('além', 'âlém'),\n ('assim', 'aóssim'),\n ('ter', 'tãer'),\n ('até', 'vté'),\n ('bem', 'búm'),\n ('design', 'íesign'),\n ('trabalho', 'trabèalho'),\n ('foi', 'kfoi'),\n ('apenas', 'aapenas'),\n ('empresa', 'pmpresa'),\n ('valor', 'valoqr'),\n ('será', 'sçerá'),\n ('entre', 'entró'),\n ('método', 'nétodo'),\n ('precisamos', 'prefcisamos'),\n ('ainda', 'sainda'),\n ('vai', 'uai'),\n ('conteúdo', 'cĩonteúdo'),\n ('seus', 'sâus'),\n ('eu', 'ìeu'),\n ('todos', 'todás'),\n ('tempo', 'utempo'),\n ('sempre', 'sempce'),\n ('qual', 'fual'),\n ('ela', 'elal'),\n ('só', 'skó'),\n ('utilizar', 'utilĩzar'),\n ('projeto', 'proójeto'),\n ('site', 'isite'),\n ('sem', 'secm'),\n ('pelo', 'pẽlo'),\n ('alura', 'aluéa'),\n ('dia', 'dil'),\n ('tudo', 'tudy'),\n ('ela', 'qelay'),\n ('só', 'sód'),\n ('utilizar', 'dtilizacr'),\n ('projeto', 'bprojõto'),\n ('site', 'ysiteo'),\n ('sem', 'sõêm'),\n ('pelo', 'peàli'),\n ('alura', 'asuraó'),\n ('dia', 'deiìa'),\n ('tudo', 'tuĩdoì'),\n ('ela', 'eúaa'),\n ('só', 'ró'),\n ('utilizar', 'utilizẽaçr'),\n ('projeto', 'prêjetó'),\n ('site', 'sqiqte'),\n ('sem', 'sũexm'),\n ('pelo', 'pçlxo'),\n ('alura', 'uluraa'),\n ('dia', 'dĩaz'),\n ('tudo', 'kzudo'),\n ('corretor', 'correptor'),\n ('tática', 'trtica'),\n ('empoderamento', 'ewpoderamento'),\n ('linux', 'lifux'),\n ('cachorro', 'cachoçro'),\n ('gato', 'îgato'),\n ('cavalo', 'cakvalo'),\n ('relógio', 'relógiuo'),\n ('canela', 'canelac'),\n ('tênis', 'tênisy'),\n ('ansiosa', 'anciosa'),\n ('ansiosa', 'ancciosa'),\n ('ansiosa', 'ansioa'),\n ('empoderamento', 'empoderamento'),\n ('asterisco', 'asterístico'),\n ('gratuito', 'gratuíto'),\n ('entretido', 'entertido'),\n ('ritmo', 'ritimo'),\n ('idiota', 'indiota'),\n ('tomara', 'tomare'),\n ('seja', 'seje'),\n ('prevalecer', 'provalecer'),\n ('esteja', 'esteje'),\n ('mendigo', 'mindigo'),\n ('cérebro', 'célebro'),\n ('perturbar', 'pertubar')]"
     },
     "execution_count": 39,
     "metadata": {},
     "output_type": "execute_result"
    }
   ],
   "source": [
    "lista_teste = cria_dados_teste(\"./data/palavras.txt\")"
   ],
   "metadata": {
    "collapsed": false,
    "pycharm": {
     "name": "#%%\n"
    }
   }
  },
  {
   "cell_type": "code",
   "execution_count": 90,
   "outputs": [],
   "source": [
    "def avaliador(testes, vocabulario):\n",
    "    numero_palavras = len(testes)\n",
    "    acertou = 0\n",
    "    desconhecida = 0\n",
    "    for correta, errada in testes:\n",
    "        palavra_corrigida = corretor(errada)\n",
    "        if palavra_corrigida == correta:\n",
    "            acertou += 1\n",
    "        else:\n",
    "            desconhecida += (correta not in vocabulario)\n",
    "    taxa_acerto = round((acertou/numero_palavras) * 100, 2)\n",
    "    taxa_desconhecida = round((desconhecida/numero_palavras) * 100, 2)\n",
    "    print(f'{taxa_acerto}% de {numero_palavras} palavras, desconhecida é {taxa_desconhecida}%')"
   ],
   "metadata": {
    "collapsed": false,
    "pycharm": {
     "name": "#%%\n"
    }
   }
  },
  {
   "cell_type": "code",
   "execution_count": 91,
   "outputs": [
    {
     "name": "stdout",
     "output_type": "stream",
     "text": [
      "76.34% de 186 palavras, desconhecida é 6.99%\n"
     ]
    }
   ],
   "source": [
    "vocabulario = set(lista_normalizada)\n",
    "avaliador(lista_teste, vocabulario)"
   ],
   "metadata": {
    "collapsed": false,
    "pycharm": {
     "name": "#%%\n"
    }
   }
  },
  {
   "cell_type": "code",
   "execution_count": 75,
   "outputs": [],
   "source": [
    "def deletando_caracteres(fatias):\n",
    "    novas_palavras = []\n",
    "    for E, D in fatias:\n",
    "        novas_palavras.append(E + D[1:])\n",
    "    return novas_palavras"
   ],
   "metadata": {
    "collapsed": false,
    "pycharm": {
     "name": "#%%\n"
    }
   }
  },
  {
   "cell_type": "code",
   "execution_count": 76,
   "outputs": [],
   "source": [
    "palavra_exemplo = \"etudar\"\n",
    "def gerador_palavras(palavra):\n",
    "    fatias = []\n",
    "    for i in range(len(palavra)+1):\n",
    "        fatias.append((palavra[:i], palavra[i:]))\n",
    "    palavra_gerada = insert_letra(fatias)\n",
    "    palavra_gerada += deletando_caracteres(fatias)\n",
    "    palavra_gerada += troca_letra(fatias)\n",
    "    palavra_gerada += insert_letra(fatias)\n",
    "    return palavra_gerada"
   ],
   "metadata": {
    "collapsed": false,
    "pycharm": {
     "name": "#%%\n"
    }
   }
  },
  {
   "cell_type": "code",
   "execution_count": 77,
   "outputs": [],
   "source": [
    "frequencia = nltk.FreqDist(lista_normalizada)\n",
    "total_palavras = len(lista_normalizada)"
   ],
   "metadata": {
    "collapsed": false,
    "pycharm": {
     "name": "#%%\n"
    }
   }
  },
  {
   "cell_type": "code",
   "execution_count": 78,
   "outputs": [
    {
     "name": "stdout",
     "output_type": "stream",
     "text": [
      "76.34% de 186 palavras\n"
     ]
    }
   ],
   "source": [
    "avaliador(lista_teste)\n",
    "\n"
   ],
   "metadata": {
    "collapsed": false,
    "pycharm": {
     "name": "#%%\n"
    }
   }
  },
  {
   "cell_type": "code",
   "execution_count": 79,
   "outputs": [],
   "source": [
    "def troca_letra(fatias):\n",
    "    novas_palavras = []\n",
    "    letras = 'abcdefghijklmnopqrstuvwxyzáâàãéêèẽíîìĩóôòõúûùũç'\n",
    "    for E, D in fatias:\n",
    "        for letra in letras:\n",
    "            novas_palavras.append((E + letra + D[1:]))\n",
    "    return novas_palavras\n"
   ],
   "metadata": {
    "collapsed": false,
    "pycharm": {
     "name": "#%%\n"
    }
   }
  },
  {
   "cell_type": "code",
   "execution_count": 80,
   "outputs": [
    {
     "data": {
      "text/plain": "'lógica'"
     },
     "execution_count": 80,
     "metadata": {},
     "output_type": "execute_result"
    }
   ],
   "source": [
    "palavra_exemplo = 'lígica'\n",
    "corretor(palavra_exemplo)"
   ],
   "metadata": {
    "collapsed": false,
    "pycharm": {
     "name": "#%%\n"
    }
   }
  },
  {
   "cell_type": "code",
   "execution_count": 81,
   "outputs": [
    {
     "name": "stdout",
     "output_type": "stream",
     "text": [
      "76.34% de 186 palavras\n"
     ]
    }
   ],
   "source": [
    "avaliador(lista_teste)"
   ],
   "metadata": {
    "collapsed": false,
    "pycharm": {
     "name": "#%%\n"
    }
   }
  },
  {
   "cell_type": "code",
   "execution_count": 88,
   "outputs": [],
   "source": [
    "def inertir_letra(fatias):\n",
    "    novas_palavras = []\n",
    "    for E, D in fatias:\n",
    "        if len(D) > 1:\n",
    "            novas_palavras.append((E + D[1] + D[0] + D[2:]))\n",
    "    return novas_palavras\n"
   ],
   "metadata": {
    "collapsed": false,
    "pycharm": {
     "name": "#%%\n"
    }
   }
  },
  {
   "cell_type": "code",
   "execution_count": 89,
   "outputs": [
    {
     "data": {
      "text/plain": "'aólgica'"
     },
     "execution_count": 89,
     "metadata": {},
     "output_type": "execute_result"
    }
   ],
   "source": [
    "palavra_exemplo = 'ólgica'\n",
    "corretor(palavra_exemplo)"
   ],
   "metadata": {
    "collapsed": false,
    "pycharm": {
     "name": "#%%\n"
    }
   }
  },
  {
   "cell_type": "code",
   "execution_count": 87,
   "outputs": [
    {
     "name": "stdout",
     "output_type": "stream",
     "text": [
      "76.34% de 186 palavras\n"
     ]
    }
   ],
   "source": [
    "avaliador(lista_teste)\n",
    "\n",
    "\n"
   ],
   "metadata": {
    "collapsed": false,
    "pycharm": {
     "name": "#%%\n"
    }
   }
  },
  {
   "cell_type": "code",
   "execution_count": 94,
   "outputs": [],
   "source": [
    "\n",
    "def gerador_turbinado(palavras_geradas):\n",
    "    novas_palavras= []\n",
    "    for palavra in palavras_geradas:\n",
    "        novas_palavras += gerador_palavras(palavra)\n",
    "    return novas_palavras"
   ],
   "metadata": {
    "collapsed": false,
    "pycharm": {
     "name": "#%%\n"
    }
   }
  },
  {
   "cell_type": "code",
   "execution_count": 95,
   "outputs": [],
   "source": [
    "def novo_corretor(palavra):\n",
    "    palavras_geradas = gerador_palavras(palavra)\n",
    "    palavras_turbinado = gerador_turbinado(palavras_geradas)\n",
    "    todas_palavras = set(palavras_geradas + palavras_turbinado)\n",
    "    candidatos = [palavra]\n",
    "    for palavra in todas_palavras:\n",
    "        if palavra in vocabulario:\n",
    "            candidatos.append(palavra)\n",
    "    palavra_correta = max(candidatos, key=probabilidade)\n",
    "    return palavra_correta"
   ],
   "metadata": {
    "collapsed": false,
    "pycharm": {
     "name": "#%%\n"
    }
   }
  },
  {
   "cell_type": "code",
   "execution_count": 96,
   "outputs": [
    {
     "data": {
      "text/plain": "'lógica'"
     },
     "execution_count": 96,
     "metadata": {},
     "output_type": "execute_result"
    }
   ],
   "source": [
    "novo_corretor('lóiigica')"
   ],
   "metadata": {
    "collapsed": false,
    "pycharm": {
     "name": "#%%\n"
    }
   }
  },
  {
   "cell_type": "code",
   "execution_count": 98,
   "outputs": [
    {
     "name": "stdout",
     "output_type": "stream",
     "text": [
      "76.34% de 186 palavras, desconhecida é 6.99%\n"
     ]
    }
   ],
   "source": [
    "avaliador(lista_teste,vocabulario)\n"
   ],
   "metadata": {
    "collapsed": false,
    "pycharm": {
     "name": "#%%\n"
    }
   }
  },
  {
   "cell_type": "code",
   "execution_count": 107,
   "outputs": [],
   "source": [
    "def avaliador(testes, vocabulario):\n",
    "    numero_palavras = len(testes)\n",
    "    acertou = 0\n",
    "    desconhecida = 0\n",
    "    for correta, errada in testes:\n",
    "        palavra_corrigida = corretor(errada)\n",
    "        desconhecida += (correta not in vocabulario)\n",
    "        if palavra_corrigida == correta:\n",
    "            acertou += 1\n",
    "    taxa_acerto = round((acertou/numero_palavras) * 100, 2)\n",
    "    taxa_desconhecida = round((desconhecida/numero_palavras) * 100, 2)\n",
    "    print(f'{taxa_acerto}% de {numero_palavras} palavras, desconhecida é {taxa_desconhecida}%')"
   ],
   "metadata": {
    "collapsed": false,
    "pycharm": {
     "name": "#%%\n"
    }
   }
  },
  {
   "cell_type": "code",
   "execution_count": 108,
   "outputs": [
    {
     "name": "stdout",
     "output_type": "stream",
     "text": [
      "76.34% de 186 palavras, desconhecida é 6.99%\n"
     ]
    }
   ],
   "source": [
    "avaliador(lista_teste,vocabulario)"
   ],
   "metadata": {
    "collapsed": false,
    "pycharm": {
     "name": "#%%\n"
    }
   }
  },
  {
   "cell_type": "code",
   "execution_count": 110,
   "outputs": [
    {
     "name": "stdout",
     "output_type": "stream",
     "text": [
      "lógica\n",
      "alióigica\n"
     ]
    }
   ],
   "source": [
    "palavra = 'lióigica'\n",
    "print(novo_corretor(palavra))\n",
    "print(corretor(palavra))\n"
   ],
   "metadata": {
    "collapsed": false,
    "pycharm": {
     "name": "#%%\n"
    }
   }
  },
  {
   "cell_type": "code",
   "execution_count": null,
   "outputs": [],
   "source": [
    "\n"
   ],
   "metadata": {
    "collapsed": false,
    "pycharm": {
     "name": "#%%\n"
    }
   }
  }
 ],
 "metadata": {
  "kernelspec": {
   "display_name": "Python 3",
   "language": "python",
   "name": "python3"
  },
  "language_info": {
   "codemirror_mode": {
    "name": "ipython",
    "version": 2
   },
   "file_extension": ".py",
   "mimetype": "text/x-python",
   "name": "python",
   "nbconvert_exporter": "python",
   "pygments_lexer": "ipython2",
   "version": "2.7.6"
  }
 },
 "nbformat": 4,
 "nbformat_minor": 0
}